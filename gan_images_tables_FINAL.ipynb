{
 "cells": [
  {
   "cell_type": "markdown",
   "metadata": {},
   "source": [
    "## This notebooks is for extracting values for tables and images from tb in sequencial order (same order as documentation) "
   ]
  },
  {
   "cell_type": "code",
   "execution_count": 38,
   "metadata": {},
   "outputs": [],
   "source": [
    "import json\n",
    "import numpy as np"
   ]
  },
  {
   "cell_type": "markdown",
   "metadata": {},
   "source": [
    "### Exp baac (comparison to results in experiment baac)"
   ]
  },
  {
   "cell_type": "code",
   "execution_count": 2,
   "metadata": {},
   "outputs": [],
   "source": [
    "baab = json.load(open('outputs/baab.json'))\n",
    "baac = json.load(open('outputs/baac.json'))"
   ]
  },
  {
   "cell_type": "code",
   "execution_count": 26,
   "metadata": {},
   "outputs": [
    {
     "name": "stdout",
     "output_type": "stream",
     "text": [
      "{\n",
      "'baab1': {\n",
      " '1': {\n",
      "  'disc_loss': '<class 'float'>',\n",
      "  'gen_loss': '<class 'float'>',\n",
      "  'val_loss': '<class 'float'>',\n",
      "  }\n",
      " }\n",
      "}\n"
     ]
    }
   ],
   "source": [
    "def compact_print(d, indent=''):\n",
    "    items = d.items()\n",
    "    key, value = next(iter(items))\n",
    "    if not indent:\n",
    "        print(\"{\")\n",
    "\n",
    "    if isinstance(value, dict):\n",
    "        print(indent + \"'{}': {{\".format(key))\n",
    "        compact_print(value, indent + ' ')\n",
    "        # print(indent + \"'...'\")\n",
    "    else:\n",
    "        last_level = [(key, type(value)) for key, value in iter(items)]\n",
    "        for key, value_type in last_level:\n",
    "            print(indent + \"'{}': '{}',\".format(key, value_type))\n",
    "        # print(indent + \"'...'\")\n",
    "    print(indent + \"}\")\n",
    "compact_print(baab)"
   ]
  },
  {
   "cell_type": "code",
   "execution_count": 43,
   "metadata": {},
   "outputs": [
    {
     "name": "stdout",
     "output_type": "stream",
     "text": [
      "-3.3e-4 4.2e-4\n",
      "0.5279662529816785 0.531752991290776\n"
     ]
    }
   ],
   "source": [
    "# get values for disc loss for every model for epoch 40\n",
    "disc_loss_baab_mean = 0\n",
    "for exp in baab.keys():\n",
    "    disc_loss_baab_mean += baab[exp]['40']['disc_loss']\n",
    "disc_loss_baab_mean /= 10\n",
    "disc_loss_baac_mean = 0\n",
    "for exp in baac.keys():\n",
    "    disc_loss_baac_mean += baac[exp]['40']['disc_loss']\n",
    "disc_loss_baac_mean /= 10\n",
    "\n",
    "print(np.format_float_scientific(disc_loss_baab_mean, precision = 1, exp_digits=1), np.format_float_scientific(disc_loss_baac_mean, precision = 1, exp_digits=1))\n",
    "\n",
    "\n",
    "# get values for val loss for every model for epoch 40\n",
    "val_loss_baab_mean = 0\n",
    "for exp in baab.keys():\n",
    "    val_loss_baab_mean += baab[exp]['40']['val_loss']\n",
    "val_loss_baab_mean /= 10\n",
    "val_loss_baac_mean = 0\n",
    "for exp in baac.keys():\n",
    "    val_loss_baac_mean += baac[exp]['40']['val_loss']\n",
    "val_loss_baac_mean /= 10\n",
    "\n",
    "print(val_loss_baab_mean, val_loss_baac_mean)"
   ]
  }
 ],
 "metadata": {
  "interpreter": {
   "hash": "ba174681306163fa3d2aa46794d0f287024d642fa921a8c1ec940b3dceafdd2d"
  },
  "kernelspec": {
   "display_name": "Python 3.8.10 ('sandbox')",
   "language": "python",
   "name": "python3"
  },
  "language_info": {
   "codemirror_mode": {
    "name": "ipython",
    "version": 3
   },
   "file_extension": ".py",
   "mimetype": "text/x-python",
   "name": "python",
   "nbconvert_exporter": "python",
   "pygments_lexer": "ipython3",
   "version": "3.8.10"
  },
  "orig_nbformat": 4
 },
 "nbformat": 4,
 "nbformat_minor": 2
}
